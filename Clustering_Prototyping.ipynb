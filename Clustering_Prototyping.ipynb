{
 "cells": [
  {
   "cell_type": "code",
   "execution_count": null,
   "metadata": {},
   "outputs": [],
   "source": [
    "import pandas as pd"
   ]
  },
  {
   "cell_type": "code",
   "execution_count": null,
   "metadata": {},
   "outputs": [],
   "source": [
    "# Load the data\n",
    "file = open('data/Mails.csv',mode='r', encoding='utf-8')\n",
    "lines = file.read().split('!#ENDOFLINE#!')\n",
    "file.close()\n",
    "\n",
    "# Split the data\n",
    "for i in range(len(lines)):\n",
    "    lines[i] = lines[i].split('!#!')\n",
    "    for j in range(len(lines[i])):\n",
    "        lines[i][j] = lines[i][j].strip()\n",
    "        \n",
    "# Load it to a data frame\n",
    "df = pd.DataFrame(lines)\n",
    "df.columns = df.iloc[0]\n",
    "df = df[1:]"
   ]
  },
  {
   "cell_type": "code",
   "execution_count": null,
   "metadata": {},
   "outputs": [],
   "source": [
    "df"
   ]
  }
 ],
 "metadata": {
  "kernelspec": {
   "display_name": "Python 3",
   "language": "python",
   "name": "python3"
  },
  "language_info": {
   "codemirror_mode": {
    "name": "ipython",
    "version": 3
   },
   "file_extension": ".py",
   "mimetype": "text/x-python",
   "name": "python",
   "nbconvert_exporter": "python",
   "pygments_lexer": "ipython3",
   "version": "3.8.6"
  }
 },
 "nbformat": 4,
 "nbformat_minor": 4
}
